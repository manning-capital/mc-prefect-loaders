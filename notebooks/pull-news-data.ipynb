{
 "cells": [
  {
   "cell_type": "code",
   "execution_count": 7,
   "id": "0e361540",
   "metadata": {},
   "outputs": [],
   "source": [
    "import os\n",
    "import sys\n",
    "\n",
    "sys.path.append(os.path.join(os.path.abspath(\"\"), os.pardir))\n",
    "\n",
    "import datetime as dt\n",
    "import pandas as pd\n",
    "import requests\n",
    "from prefect.blocks.system import Secret\n",
    "from sqlalchemy import create_engine, select\n",
    "from sqlalchemy.orm import Session\n",
    "from mcpdb.tables import (\n",
    "    Provider,\n",
    "    ProviderAsset,\n",
    "    ProviderContent,\n",
    "    ProviderType,\n",
    ")\n",
    "from src.shared.utils import compare_dataframes"
   ]
  },
  {
   "cell_type": "code",
   "execution_count": 19,
   "id": "75cd12c7",
   "metadata": {},
   "outputs": [
    {
     "data": {
      "text/plain": [
       "(Empty DataFrame\n",
       " Columns: [id, name_1, name_2, _merge]\n",
       " Index: [],\n",
       " Empty DataFrame\n",
       " Columns: [id, name_1, name_2, _merge]\n",
       " Index: [],\n",
       "    id     name\n",
       " 0   1    Alice\n",
       " 2   3  Charlie,\n",
       "    id  name\n",
       " 1   2  Alex)"
      ]
     },
     "execution_count": 19,
     "metadata": {},
     "output_type": "execute_result"
    }
   ],
   "source": [
    "table_1 = pd.DataFrame(\n",
    "    {\n",
    "        \"id\": [1, 2, 3],\n",
    "        \"name\": [\"Alice\", \"Bob\", \"Charlie\"],\n",
    "    }\n",
    ")\n",
    "\n",
    "table_2 = pd.DataFrame(\n",
    "    {\n",
    "        \"id\": [1, 2, 3],\n",
    "        \"name\": [\"Alice\", \"Alex\", \"Charlie\"],\n",
    "    }\n",
    ")\n",
    "\n",
    "result = compare_dataframes(table_1, table_2, [\"id\"])\n",
    "result"
   ]
  },
  {
   "cell_type": "code",
   "execution_count": 20,
   "id": "bd4b7f9b",
   "metadata": {},
   "outputs": [
    {
     "data": {
      "text/html": [
       "<div>\n",
       "<style scoped>\n",
       "    .dataframe tbody tr th:only-of-type {\n",
       "        vertical-align: middle;\n",
       "    }\n",
       "\n",
       "    .dataframe tbody tr th {\n",
       "        vertical-align: top;\n",
       "    }\n",
       "\n",
       "    .dataframe thead th {\n",
       "        text-align: right;\n",
       "    }\n",
       "</style>\n",
       "<table border=\"1\" class=\"dataframe\">\n",
       "  <thead>\n",
       "    <tr style=\"text-align: right;\">\n",
       "      <th></th>\n",
       "      <th>id</th>\n",
       "      <th>name</th>\n",
       "    </tr>\n",
       "  </thead>\n",
       "  <tbody>\n",
       "    <tr>\n",
       "      <th>1</th>\n",
       "      <td>2</td>\n",
       "      <td>Alex</td>\n",
       "    </tr>\n",
       "  </tbody>\n",
       "</table>\n",
       "</div>"
      ],
      "text/plain": [
       "   id  name\n",
       "1   2  Alex"
      ]
     },
     "execution_count": 20,
     "metadata": {},
     "output_type": "execute_result"
    }
   ],
   "source": [
    "result[3]"
   ]
  },
  {
   "cell_type": "code",
   "execution_count": 16,
   "id": "6eb13562",
   "metadata": {},
   "outputs": [
    {
     "data": {
      "text/html": [
       "<div>\n",
       "<style scoped>\n",
       "    .dataframe tbody tr th:only-of-type {\n",
       "        vertical-align: middle;\n",
       "    }\n",
       "\n",
       "    .dataframe tbody tr th {\n",
       "        vertical-align: top;\n",
       "    }\n",
       "\n",
       "    .dataframe thead th {\n",
       "        text-align: right;\n",
       "    }\n",
       "</style>\n",
       "<table border=\"1\" class=\"dataframe\">\n",
       "  <thead>\n",
       "    <tr style=\"text-align: right;\">\n",
       "      <th></th>\n",
       "      <th>id</th>\n",
       "      <th>name</th>\n",
       "    </tr>\n",
       "  </thead>\n",
       "  <tbody>\n",
       "    <tr>\n",
       "      <th>0</th>\n",
       "      <td>1</td>\n",
       "      <td>Alice</td>\n",
       "    </tr>\n",
       "    <tr>\n",
       "      <th>2</th>\n",
       "      <td>3</td>\n",
       "      <td>Charlie</td>\n",
       "    </tr>\n",
       "  </tbody>\n",
       "</table>\n",
       "</div>"
      ],
      "text/plain": [
       "   id     name\n",
       "0   1    Alice\n",
       "2   3  Charlie"
      ]
     },
     "execution_count": 16,
     "metadata": {},
     "output_type": "execute_result"
    }
   ],
   "source": [
    "result[2]"
   ]
  },
  {
   "cell_type": "code",
   "execution_count": 17,
   "id": "5f3c8020",
   "metadata": {},
   "outputs": [
    {
     "data": {
      "text/html": [
       "<div>\n",
       "<style scoped>\n",
       "    .dataframe tbody tr th:only-of-type {\n",
       "        vertical-align: middle;\n",
       "    }\n",
       "\n",
       "    .dataframe tbody tr th {\n",
       "        vertical-align: top;\n",
       "    }\n",
       "\n",
       "    .dataframe thead th {\n",
       "        text-align: right;\n",
       "    }\n",
       "</style>\n",
       "<table border=\"1\" class=\"dataframe\">\n",
       "  <thead>\n",
       "    <tr style=\"text-align: right;\">\n",
       "      <th></th>\n",
       "      <th>id</th>\n",
       "      <th>name</th>\n",
       "    </tr>\n",
       "  </thead>\n",
       "  <tbody>\n",
       "    <tr>\n",
       "      <th>1</th>\n",
       "      <td>2</td>\n",
       "      <td>Alex</td>\n",
       "    </tr>\n",
       "  </tbody>\n",
       "</table>\n",
       "</div>"
      ],
      "text/plain": [
       "   id  name\n",
       "1   2  Alex"
      ]
     },
     "execution_count": 17,
     "metadata": {},
     "output_type": "execute_result"
    }
   ],
   "source": [
    "result[3]"
   ]
  },
  {
   "cell_type": "code",
   "execution_count": null,
   "id": "ff1002ea",
   "metadata": {},
   "outputs": [],
   "source": [
    "postgresql_password: str = (await Secret.load(\"postgresql-password\")).get()  # type: ignore\n",
    "host = (await Secret.load(\"postgresql-host\")).get()  # type: ignore\n",
    "port = 25060\n",
    "database = \"defaultdb\"\n",
    "user = \"doadmin\"\n",
    "url = \"postgresql+psycopg2://{user}:{password}@{host}:{port}/{database}\".format(\n",
    "    user=user,\n",
    "    password=postgresql_password,\n",
    "    host=host,\n",
    "    port=port,\n",
    "    database=database,\n",
    ")\n",
    "engine = create_engine(url)"
   ]
  },
  {
   "cell_type": "code",
   "execution_count": null,
   "id": "e33a143f",
   "metadata": {},
   "outputs": [],
   "source": [
    "categories: list[str] = []\n",
    "with Session(engine) as session:\n",
    "    # Get the coin desk provider.\n",
    "    stmt = select(Provider).where(Provider.name == \"CoinDesk\")\n",
    "    provider = session.execute(stmt).scalar_one_or_none()\n",
    "\n",
    "    # Get all categories from provider assets.\n",
    "    if provider:\n",
    "        stmt = select(ProviderAsset).where(ProviderAsset.provider_id == provider.id)\n",
    "        provider_assets = session.execute(stmt).scalars().all()\n",
    "        for provider_asset in provider_assets:\n",
    "            if provider_asset.asset_code:\n",
    "                categories.append(provider_asset.asset_code)\n",
    "\n",
    "categories"
   ]
  },
  {
   "cell_type": "code",
   "execution_count": null,
   "id": "4d75f446",
   "metadata": {},
   "outputs": [],
   "source": [
    "host = \"https://data-api.coindesk.com\"\n",
    "uri = \"/news/v1/article/list\"\n",
    "params = {\n",
    "    \"lang\": \"EN\",\n",
    "    \"limit\": 100,\n",
    "    \"to_ts\": (dt.datetime.now() - dt.timedelta(hours=2)).timestamp(),\n",
    "    \"categories\": \",\".join(categories),\n",
    "}\n",
    "response = requests.get(f\"{host}{uri}\", params=params)\n",
    "if response.status_code != 200:\n",
    "    raise Exception(f\"Failed to fetch data from Coindesk API: {response.status_code}\")\n",
    "content_data = response.json()[\"Data\"]\n",
    "content_data"
   ]
  },
  {
   "cell_type": "code",
   "execution_count": null,
   "id": "c2c78879",
   "metadata": {},
   "outputs": [],
   "source": [
    "host = \"https://data-api.coindesk.com\"\n",
    "uri = \"/news/v1/source/list\"\n",
    "params = {\n",
    "    \"lang\": \"EN\",\n",
    "    \"status\": \"ACTIVE\",\n",
    "}\n",
    "response = requests.get(f\"{host}{uri}\", params=params)\n",
    "if response.status_code != 200:\n",
    "    raise Exception(f\"Failed to fetch data from Coindesk API: {response.status_code}\")\n",
    "provider_data = response.json()[\"Data\"]\n",
    "provider_data"
   ]
  },
  {
   "cell_type": "code",
   "execution_count": null,
   "id": "5a38f309",
   "metadata": {},
   "outputs": [],
   "source": [
    "with Session(engine) as session:\n",
    "    stmt = select(ProviderContent)\n",
    "    provider_contents_df = pd.read_sql(stmt, engine)\n",
    "provider_contents_df"
   ]
  },
  {
   "cell_type": "code",
   "execution_count": null,
   "id": "04055e1b",
   "metadata": {},
   "outputs": [],
   "source": [
    "with Session(engine) as session:\n",
    "    stmt = select(\n",
    "        Provider.id,\n",
    "        Provider.name,\n",
    "        ProviderType.name.label(\"provider_type\"),\n",
    "        ProviderType.description.label(\"provider_type_description\"),\n",
    "        Provider.description,\n",
    "        Provider.is_active,\n",
    "        Provider.created_at,\n",
    "        Provider.updated_at,\n",
    "    ).join(ProviderType, Provider.provider_type_id == ProviderType.id)\n",
    "    provider_df = pd.read_sql(stmt, engine)\n",
    "provider_df"
   ]
  },
  {
   "cell_type": "code",
   "execution_count": null,
   "id": "2eaef6e5",
   "metadata": {},
   "outputs": [],
   "source": [
    "with Session(engine) as session:\n",
    "    stmt = select(ProviderType)\n",
    "    provider_types_df = pd.read_sql(stmt, engine)\n",
    "provider_types_df"
   ]
  },
  {
   "cell_type": "code",
   "execution_count": null,
   "id": "29a9c239",
   "metadata": {},
   "outputs": [],
   "source": [
    "provider_data_df = pd.DataFrame(provider_data)\n",
    "provider_data_df"
   ]
  },
  {
   "cell_type": "code",
   "execution_count": null,
   "id": "92b4bcc4",
   "metadata": {},
   "outputs": [],
   "source": []
  },
  {
   "cell_type": "code",
   "execution_count": null,
   "id": "84e20717",
   "metadata": {},
   "outputs": [],
   "source": [
    "content_data_df = pd.DataFrame(content_data)\n",
    "content_data_df"
   ]
  },
  {
   "cell_type": "code",
   "execution_count": null,
   "id": "79fbeace",
   "metadata": {},
   "outputs": [],
   "source": [
    "url"
   ]
  }
 ],
 "metadata": {
  "kernelspec": {
   "display_name": ".venv",
   "language": "python",
   "name": "python3"
  },
  "language_info": {
   "codemirror_mode": {
    "name": "ipython",
    "version": 3
   },
   "file_extension": ".py",
   "mimetype": "text/x-python",
   "name": "python",
   "nbconvert_exporter": "python",
   "pygments_lexer": "ipython3",
   "version": "3.12.9"
  }
 },
 "nbformat": 4,
 "nbformat_minor": 5
}

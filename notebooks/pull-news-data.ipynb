{
 "cells": [
  {
   "cell_type": "code",
   "execution_count": null,
   "id": "0e361540",
   "metadata": {},
   "outputs": [],
   "source": [
    "import datetime as dt\n",
    "import requests\n",
    "from prefect.blocks.system import Secret\n",
    "from sqlalchemy import create_engine, select\n",
    "from sqlalchemy.orm import Session\n",
    "from mcpdb.tables import Asset, Provider, AssetType, ProviderAsset"
   ]
  },
  {
   "cell_type": "code",
   "execution_count": null,
   "id": "ff1002ea",
   "metadata": {},
   "outputs": [],
   "source": [
    "postgresql_password: str = (await Secret.load(\"postgresql-password\")).get()\n",
    "host = \"db-postgresql-lon1-65351-do-user-18535103-0.m.db.ondigitalocean.com\"\n",
    "port = 25060\n",
    "database = \"defaultdb\"\n",
    "user = \"doadmin\"\n",
    "url = \"postgresql+psycopg2://{user}:{password}@{host}:{port}/{database}\".format(\n",
    "    user=user,\n",
    "    password=postgresql_password,\n",
    "    host=host,\n",
    "    port=port,\n",
    "    database=database,\n",
    ")\n",
    "engine = create_engine(url)"
   ]
  },
  {
   "cell_type": "code",
   "execution_count": null,
   "id": "c5ddc2f0",
   "metadata": {},
   "outputs": [],
   "source": [
    "keywords: list[str] = []\n",
    "with Session(engine) as session:\n",
    "    # Add crypto-related keywords\n",
    "    crypto_keywords = [\"cryptocurrency\", \"crypto\", \"blockchain\"]\n",
    "    keywords.extend(crypto_keywords)\n",
    "\n",
    "    # Get all keywords from assets\n",
    "    assets = (\n",
    "        session.execute(\n",
    "            select(Asset)\n",
    "            .join(AssetType, Asset.asset_type_id == AssetType.id)\n",
    "            .where(AssetType.name == \"DIGITAL_CURRENCY\")\n",
    "        )\n",
    "        .scalars()\n",
    "        .all()\n",
    "    )\n",
    "    for asset in assets:\n",
    "        keywords.append(asset.name)\n",
    "        keywords.append(asset.description)\n",
    "\n",
    "    # Get all keywords from provider assets\n",
    "    provider_assets = session.execute(select(ProviderAsset)).scalars().all()\n",
    "    for provider_asset in provider_assets:\n",
    "        keywords.append(provider_asset.asset_code)\n",
    "\n",
    "    # Normalize keywords\n",
    "    keywords = [keyword.lower().strip() for keyword in keywords if keyword]\n",
    "    keywords = list(set(keywords))  # Remove duplicates\n",
    "\n",
    "keywords"
   ]
  },
  {
   "cell_type": "code",
   "execution_count": null,
   "id": "e33a143f",
   "metadata": {},
   "outputs": [],
   "source": [
    "categories: list[str] = []\n",
    "with Session(engine) as session:\n",
    "    # Get the coin desk provider.\n",
    "    stmt = select(Provider).where(Provider.name == \"CoinDesk\")\n",
    "    provider = session.execute(stmt).scalar_one_or_none()\n",
    "\n",
    "    # Get all categories from provider assets.\n",
    "    if provider:\n",
    "        stmt = select(ProviderAsset).where(ProviderAsset.provider_id == provider.id)\n",
    "        provider_assets = session.execute(stmt).scalars().all()\n",
    "        for provider_asset in provider_assets:\n",
    "            if provider_asset.asset_code:\n",
    "                categories.append(provider_asset.asset_code)\n",
    "\n",
    "categories"
   ]
  },
  {
   "cell_type": "code",
   "execution_count": null,
   "id": "4d75f446",
   "metadata": {},
   "outputs": [],
   "source": [
    "host = \"https://data-api.coindesk.com\"\n",
    "uri = \"/news/v1/article/list\"\n",
    "params = {\n",
    "    \"lang\": \"EN\",\n",
    "    \"limit\": 100,\n",
    "    \"to_ts\": (dt.datetime.now() - dt.timedelta(hours=2)).timestamp(),\n",
    "    \"categories\": \",\".join(categories),\n",
    "}\n",
    "response = requests.get(f\"{host}{uri}\", params=params)\n",
    "if response.status_code != 200:\n",
    "    raise Exception(f\"Failed to fetch data from Coindesk API: {response.status_code}\")\n",
    "data = response.json()[\"Data\"]\n",
    "data"
   ]
  }
 ],
 "metadata": {
  "kernelspec": {
   "display_name": ".venv",
   "language": "python",
   "name": "python3"
  },
  "language_info": {
   "codemirror_mode": {
    "name": "ipython",
    "version": 3
   },
   "file_extension": ".py",
   "mimetype": "text/x-python",
   "name": "python",
   "nbconvert_exporter": "python",
   "pygments_lexer": "ipython3",
   "version": "3.12.9"
  }
 },
 "nbformat": 4,
 "nbformat_minor": 5
}
